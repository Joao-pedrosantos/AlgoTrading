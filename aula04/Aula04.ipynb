{
 "cells": [
  {
   "cell_type": "markdown",
   "metadata": {},
   "source": [
    "# Algotrading - Aula 4\n",
    "\n",
    "Montando um Backtesting simples\n",
    "___\n",
    "\n",
    "Vamos começar importando algumas bibliotecas úteis"
   ]
  },
  {
   "cell_type": "code",
   "execution_count": null,
   "metadata": {},
   "outputs": [],
   "source": [
    "# Pequeno ajuste inicial\n",
    "\n",
    "!pip install \"numpy<1.25\" --upgrade"
   ]
  },
  {
   "cell_type": "code",
   "execution_count": null,
   "metadata": {},
   "outputs": [],
   "source": [
    "%matplotlib inline\n",
    "\n",
    "import numpy as np\n",
    "import pandas as pd\n",
    "import matplotlib.pyplot as plt\n",
    "\n",
    "from IPython import display"
   ]
  },
  {
   "cell_type": "markdown",
   "metadata": {},
   "source": [
    "Instalar também uma biblioteca também útil para pegar dados de fechamento direito do yahoo finance:"
   ]
  },
  {
   "cell_type": "code",
   "execution_count": null,
   "metadata": {},
   "outputs": [],
   "source": [
    "!pip install yfinance"
   ]
  },
  {
   "cell_type": "markdown",
   "metadata": {},
   "source": [
    "Agora vamos baixar dados de fechamento (**Historical Data**) de 5 anos diretamente do site"
   ]
  },
  {
   "cell_type": "code",
   "execution_count": null,
   "metadata": {},
   "outputs": [],
   "source": [
    "import yfinance as yf\n",
    "from datetime import datetime, timedelta\n",
    "\n",
    "ticker = '^BVSP'\n",
    "\n",
    "# Selecionado uma data de hoje menos 5 anos\n",
    "start_date = (datetime.now() - timedelta(days=5*365))\n",
    "\n",
    "# Formatando para Ymd\n",
    "start_date = start_date.strftime('%Y-%m-%d')\n",
    "\n",
    "# Selecionando a data de ontem\n",
    "end_date = (datetime.now() - timedelta(days=1)).strftime('%Y-%m-%d')\n",
    "\n",
    "data = yf.download(ticker, start=start_date, end=end_date, interval='1d', auto_adjust=True)"
   ]
  },
  {
   "cell_type": "markdown",
   "metadata": {},
   "source": [
    "Agora que sabemos como separar o que interessa, vamos começar a montar nosso dataframe"
   ]
  },
  {
   "cell_type": "code",
   "execution_count": null,
   "metadata": {},
   "outputs": [],
   "source": [
    "# Remove o ticker do index\n",
    "ibov = data.droplevel(1, axis=1)\n",
    "ibov"
   ]
  },
  {
   "cell_type": "markdown",
   "metadata": {},
   "source": [
    "Voltando aos dados diários, vamos dar uma olhadinha brevemente nos retornos"
   ]
  },
  {
   "cell_type": "code",
   "execution_count": null,
   "metadata": {},
   "outputs": [],
   "source": [
    "ibov_ret = ibov[\"Close\"].pct_change().dropna()*100\n",
    "ibov_ret.head(10)"
   ]
  },
  {
   "cell_type": "markdown",
   "metadata": {},
   "source": [
    "Explorando os dados"
   ]
  },
  {
   "cell_type": "code",
   "execution_count": null,
   "metadata": {},
   "outputs": [],
   "source": [
    "# Medidas Resumo\n",
    "ibov_ret.describe()"
   ]
  },
  {
   "cell_type": "code",
   "execution_count": null,
   "metadata": {},
   "outputs": [],
   "source": [
    "# Histograma\n",
    "ibov_ret.plot.hist(density=True);"
   ]
  },
  {
   "cell_type": "code",
   "execution_count": null,
   "metadata": {},
   "outputs": [],
   "source": [
    "# Histograma\n",
    "import scipy.stats as stats\n",
    "stats.probplot(ibov_ret, dist=\"norm\", plot=plt);"
   ]
  },
  {
   "cell_type": "markdown",
   "metadata": {},
   "source": [
    "Obs: Deveríamos fazer o teste de normalidade dos dados para ter certeza!"
   ]
  },
  {
   "cell_type": "code",
   "execution_count": null,
   "metadata": {},
   "outputs": [],
   "source": [
    "# Boxplot\n",
    "ibov_ret.plot(kind='box');"
   ]
  },
  {
   "cell_type": "markdown",
   "metadata": {},
   "source": [
    "Calculando o log-retorno"
   ]
  },
  {
   "cell_type": "code",
   "execution_count": null,
   "metadata": {},
   "outputs": [],
   "source": [
    "ibov_logr = ibov.Close.apply(np.log).diff().dropna()*100\n",
    "ibov_logr.head()"
   ]
  },
  {
   "cell_type": "markdown",
   "metadata": {},
   "source": [
    "Apenas verificando se log-retorno e retorno são muito diferentes para esses dados"
   ]
  },
  {
   "cell_type": "code",
   "execution_count": null,
   "metadata": {},
   "outputs": [],
   "source": [
    "(ibov_ret - ibov_logr).plot();"
   ]
  },
  {
   "cell_type": "markdown",
   "metadata": {},
   "source": [
    "### Simulando uma Estratégia de Trading\n",
    "\n",
    "Vamos começar olhando como interagir com os dados:"
   ]
  },
  {
   "cell_type": "code",
   "execution_count": null,
   "metadata": {},
   "outputs": [],
   "source": [
    "# Percorrendo todos os preços de fechamento\n",
    "for price in ibov.Close:\n",
    "    print(price)"
   ]
  },
  {
   "cell_type": "markdown",
   "metadata": {},
   "source": [
    "Imagine agora que você comprou 1 contrato do instrumento sem alavancagem no próprio preço no primeiro ponto:"
   ]
  },
  {
   "cell_type": "code",
   "execution_count": null,
   "metadata": {},
   "outputs": [],
   "source": [
    "# Primeiro ponto:\n",
    "print(ibov.Close.iloc[0])"
   ]
  },
  {
   "cell_type": "markdown",
   "metadata": {},
   "source": [
    "Obs: Não é possível comprar IBOV diretamente como uma ação. O índice bovespa é formado por uma cesta de ações ponderadas pelo seu volume histórico. Mas é possível comprar ETF (Exchange Traded Fund) ou Futuro (derivativo) que segue o índice. https://www.b3.com.br/pt_br/market-data-e-indices/indices/indices-amplos/ibovespa.htm"
   ]
  },
  {
   "cell_type": "code",
   "execution_count": null,
   "metadata": {},
   "outputs": [],
   "source": [
    "# Montando a alocação\n",
    "\n",
    "k = 1_000_000\n",
    "q = k // ibov.Close.iloc[0]\n",
    "k -= q * ibov.Close.iloc[0]\n",
    "\n",
    "notional = q * ibov.Close.iloc[0]\n",
    "print(f\"Quantidade de instrumentos comprados: {q}\")\n",
    "print(f\"Preço de compra: {ibov.Close.iloc[0]}\")\n",
    "print(f\"Tamanho da posição: {notional}\")\n",
    "print(f\"Caixa restante: {k}\")"
   ]
  },
  {
   "cell_type": "markdown",
   "metadata": {},
   "source": [
    "*Notional* é uma denominação para a posição em termos de dinheiro, usado principalmente para posições alavancadas de derivativos. Ela se contrapõe à palavra *position*, que pode denominar tanto a quantidade de dinheiro ou a quantidade de ações/contratos.\n",
    "\n",
    "---\n",
    "\n",
    "Agora imagine que vendeu no último dia:"
   ]
  },
  {
   "cell_type": "code",
   "execution_count": null,
   "metadata": {},
   "outputs": [],
   "source": [
    "# Resultado em termos monetários\n",
    "result = q * ibov.Close.iloc[-1] - notional\n",
    "print(result)"
   ]
  },
  {
   "cell_type": "markdown",
   "metadata": {},
   "source": [
    "Esse é o retorno financeiro (em dinheiro) que você obteve **comprando** no primeiro dia e **vendendo** no último dia da simulação. Essa estratégia é chamada de **BUY & HOLD** ou **BnH**.\n",
    "\n",
    "E qual foi o retorno percentual?"
   ]
  },
  {
   "cell_type": "code",
   "execution_count": null,
   "metadata": {},
   "outputs": [],
   "source": [
    "# Em percentual (retorno):\n",
    "print(f'{result/notional*100:0.2f}%')"
   ]
  },
  {
   "cell_type": "markdown",
   "metadata": {},
   "source": [
    "Resultado: Se comprou IBOV 5 anos atrás e vendeu ontem, ganhou cerca de R$ 356 mil investindo cerca de R$ 917 mil.\n",
    "\n",
    "PnL (Profit & Loss): 36.93\\%\n",
    "\n",
    "Parece um bom negócio? Será que é tão simples?\n",
    "\n",
    "___\n",
    "\n",
    "Para contar **toda** a história do **trade**, queremos saber quanto ela rendeu ao longo do tempo usando marcação a mercado (Mark to Market - MtM).\n",
    "\n",
    "MtM é uma forma de saber o seu patrimônio atual, ou seja, o seu dinheiro em caixa somado ao valor atual dos seus ativos. É uma forma de gerenciar melhor os riscos, sem cair na falácia do \"Não vendi, não perdi\", uma forma de auto-enganação.\n",
    "\n",
    "---\n",
    "\n",
    "Precisamos analisar o quanto seria o meu resultado para cada dia que passa durante o trade:"
   ]
  },
  {
   "cell_type": "code",
   "execution_count": null,
   "metadata": {},
   "outputs": [],
   "source": [
    "# Comprei no primeiro ponto\n",
    "k = 1_000_000\n",
    "q = k // ibov.Close.iloc[0]\n",
    "k -= q * ibov.Close.iloc[0]\n",
    "\n",
    "notional = q * ibov.Close.iloc[0]\n",
    "\n",
    "for price in ibov.Close:\n",
    "    # Para cada ponto, calculo meu resultado se fosse vender\n",
    "    print(f\"Retorno acumualdo diário: {q * price - notional}\")"
   ]
  },
  {
   "cell_type": "markdown",
   "metadata": {},
   "source": [
    "Não foi muito útil, vamos gerar o gráfico:"
   ]
  },
  {
   "cell_type": "code",
   "execution_count": null,
   "metadata": {},
   "outputs": [],
   "source": [
    "# Comprei no primeiro ponto\n",
    "k = 1_000_000\n",
    "q = k // ibov.Close.iloc[0]\n",
    "k -= q * ibov.Close.iloc[0]\n",
    "\n",
    "notional = q * ibov.Close.iloc[0]\n",
    "\n",
    "result = []\n",
    "for price in ibov.Close:\n",
    "    # Para cada ponto, calculo meu resultado se fosse vender e guardo em uma lista\n",
    "    result.append(q * price - notional)\n",
    "\n",
    "pd.Series(result).plot();"
   ]
  },
  {
   "cell_type": "markdown",
   "metadata": {},
   "source": [
    "Agora sim, e não pareceu tão bonito quanto o resultado final. Qual foi o pior momento?"
   ]
  },
  {
   "cell_type": "code",
   "execution_count": null,
   "metadata": {},
   "outputs": [],
   "source": [
    "min(result)"
   ]
  },
  {
   "cell_type": "code",
   "execution_count": null,
   "metadata": {},
   "outputs": [],
   "source": [
    "print(f'{min(result)/notional*100:0.2f}%')"
   ]
  },
  {
   "cell_type": "markdown",
   "metadata": {},
   "source": [
    "Esse resultado é o **Max Drawdown** (**MDD**), ou seja, o maior prejuízo pontual ao longo do tempo. Você consegue calcular o Max Profit?\n",
    "\n",
    "Outra medida a ser observada é a taxa de acerto (**Hitting Ratio** ou **HR**), mas como só foi feita 1 operação, essa medida não faz muito sentido ainda.\n",
    "\n",
    "E a volatilidade do resultado?"
   ]
  },
  {
   "cell_type": "code",
   "execution_count": null,
   "metadata": {},
   "outputs": [],
   "source": [
    "pd.Series(result).describe()"
   ]
  },
  {
   "cell_type": "code",
   "execution_count": null,
   "metadata": {},
   "outputs": [],
   "source": [
    "(pd.Series(result[1:])*100/notional).describe()"
   ]
  },
  {
   "cell_type": "markdown",
   "metadata": {},
   "source": [
    "Para calcular a volatilidade anualizada, precisa anualizar o valor do desvio padrão (ver os slides da aula).\n",
    "___\n",
    " \n",
    "Também é possível fazer o chamado **backtesting vetorial**:"
   ]
  },
  {
   "cell_type": "code",
   "execution_count": null,
   "metadata": {},
   "outputs": [],
   "source": [
    "ibov_vet = ibov.copy()\n",
    "ibov_vet['signal'] = [1] + [0]*(len(ibov_vet)-2) + [-1]\n",
    "\n",
    "ibov_vet\n"
   ]
  },
  {
   "cell_type": "code",
   "execution_count": null,
   "metadata": {},
   "outputs": [],
   "source": [
    "ibov_vet['flow'] = - ibov_vet['signal'] * ibov_vet['Close']\n",
    "\n",
    "ibov_vet"
   ]
  },
  {
   "cell_type": "code",
   "execution_count": null,
   "metadata": {},
   "outputs": [],
   "source": [
    "ibov_vet['flow'].sum()"
   ]
  },
  {
   "cell_type": "markdown",
   "metadata": {},
   "source": [
    "Esse é o resultado por instrumento. Para recuperar o número obtido anteriormente, multiplique pela quantidade comprada (nove) e verifique o batimento do resultado.\n",
    "\n",
    "É possível reproduzir ainda algumas métricas, mas esse tipo de backtesting é muito limitado.\n",
    "\n",
    "---\n",
    "\n",
    "Para termos uma maior acurácia no backtesting, vamos fazer **evento a evento**, o que simularia realmente o cotidiano da vida real.\n",
    "\n",
    "Alguns detalhes:\n",
    "\n",
    "Sempre trabalhar com fluxo de caixa:\n",
    " * Toda vez que compra, dinheiro sai do bolso\n",
    " * Toda vez que vende, dinheiro entra\n",
    "\n",
    "Sempre usar o MtM para estimar o resultado a cada evento (no caso dia)\n",
    "\n",
    "---\n",
    "\n",
    "Em python também é possível montar um gráfico mais interativo:"
   ]
  },
  {
   "cell_type": "code",
   "execution_count": null,
   "metadata": {},
   "outputs": [],
   "source": [
    "fig, ax = plt.subplots(1, 1, figsize=(10,5));\n",
    "\n",
    "cash = 1_000_000 # indica quanto dinheiro tem no bolso\n",
    "position = 0 # indica a posição atual. 0 é zerado\n",
    "result = [] # lista para montar o gráfico\n",
    "\n",
    "# Vamos simular apenas os 100 primeiros pontos (dias)\n",
    "for price in ibov.Close.iloc[:180]:\n",
    "    \n",
    "    # Se a posição está zerada, compra\n",
    "    if position == 0:\n",
    "        q = cash // price # Quantidade que pode comprar\n",
    "        cash -= q * price # Fluxo de caixa negativo\n",
    "        position = 1 # Indica que está comprado em 1\n",
    "\n",
    "    # Qual o meu resultado atual\n",
    "    result.append(cash + q * price * position) # Mark To Market!\n",
    "   \n",
    "    # Fazendo o plot a cada iteração:\n",
    "    ax.plot(result, color='blue')    \n",
    "    display.clear_output(wait=True)\n",
    "    display.display(fig)\n",
    "    \n",
    "ax.plot(result, color='blue');\n",
    "display.clear_output(wait=True)"
   ]
  },
  {
   "cell_type": "markdown",
   "metadata": {},
   "source": [
    "---\n",
    "\n",
    "#### NOVA ESTRATÉGIA\n",
    "\n",
    "Vamos simular um clássico: 2-period RSI, apresentado por Larry Connors no livro Short-Term Trading Strategies That Work (2008).\n",
    "\n",
    "A ideia é utilizar um indicador técnico chamado Relative Strenght Index (RSI) com o período curtíssimo de valor 2 (normalmente usa-se 14 observações).\n",
    "\n",
    "RSI é um índice normalizado entre 0 e 100, utilizando uma razão entre média de subidas e quedas, suavizadas por uma média móvel exponencial. Mais detalhes mais tarde no curso.\n",
    "\n",
    "* Entrada: no livro, Connors sugere a compra quando o valor do RSI(2) for menor ou igual a 10\n",
    "* Saída: quando o RSI(2) atingir o valor maior ou igual a 80\n",
    "\n",
    "Vamos montar um backtesting dessa estratégia!\n",
    "\n",
    "Primeiro, vamos instalar uma biblioteca de auxílio:"
   ]
  },
  {
   "cell_type": "code",
   "execution_count": null,
   "metadata": {},
   "outputs": [],
   "source": [
    "!pip install pandas-ta"
   ]
  },
  {
   "cell_type": "markdown",
   "metadata": {},
   "source": [
    "Calculando o RSI(2):"
   ]
  },
  {
   "cell_type": "code",
   "execution_count": null,
   "metadata": {},
   "outputs": [],
   "source": [
    "import pandas_ta as ta\n",
    "ibov['rsi'] = ibov.ta.rsi(length=2)\n",
    "ibov = ibov.dropna()\n",
    "ibov"
   ]
  },
  {
   "cell_type": "code",
   "execution_count": null,
   "metadata": {},
   "outputs": [],
   "source": [
    "ibov['rsi'].describe()"
   ]
  },
  {
   "cell_type": "code",
   "execution_count": null,
   "metadata": {},
   "outputs": [],
   "source": [
    "fig, ax = plt.subplots(2, 1, figsize=(10,5));\n",
    "\n",
    "ibov['Close'].iloc[-150:].plot(ax=ax[0]);\n",
    "ibov['rsi'].iloc[-150:].plot(ax=ax[1]);"
   ]
  },
  {
   "cell_type": "markdown",
   "metadata": {},
   "source": [
    "Cálculo rudimentar do PnL:"
   ]
  },
  {
   "cell_type": "code",
   "execution_count": null,
   "metadata": {},
   "outputs": [],
   "source": [
    "# Protótipo da estratégia:\n",
    "k = 1_000_000\n",
    "position = 0\n",
    "PV = [] # Patrimonio líquido\n",
    "\n",
    "for row in ibov.itertuples():\n",
    "    if row.rsi < 10 and position == 0:\n",
    "        position = k // row.Close\n",
    "        k -= position * row.Close\n",
    "    elif row.rsi > 80 and position != 0:\n",
    "        k += position * row.Close\n",
    "        position = 0\n",
    "    \n",
    "    PV.append(k + position * row.Close)\n",
    "\n",
    "pd.Series(PV).plot();"
   ]
  },
  {
   "cell_type": "code",
   "execution_count": null,
   "metadata": {},
   "outputs": [],
   "source": [
    "print(f\"PnL acumulado: {PV[-1] - 1_000_000}\")"
   ]
  },
  {
   "cell_type": "markdown",
   "metadata": {},
   "source": [
    "Vocês acham?\n",
    "\n",
    "Podemos melhorar esse número?\n",
    "\n",
    "Só o PnL é suficiente para avaliar a estratégia?\n",
    "\n",
    "Mais importante: está certo isso? (dica: falta carrego e custos)\n",
    "\n",
    "___"
   ]
  },
  {
   "cell_type": "markdown",
   "metadata": {},
   "source": [
    "### Lista: Exercício 1 - 17/Set até 14h00\n",
    "\n",
    "* Implementar as métricas dos slides da aula. Considerar apenas: Profitability, Risk e Performance Metrics\n",
    "* Implementar o carrego (rendimento do dinheiro em caixa). Considerar CDI hipotético de 10% ao ano\n",
    "* Desconsiderar os custos por enquanto. Assumir que entra no preço de fechamento do dia usado no RSI\n",
    "* Entregar um **IPYNB (Jupyter Notebook em PYTHON)** com o código e o gráfico da simulação do resultado\n",
    "* Prazo: **17/Set até 14h00** via Blackboard (Após esse prazo será considerado atrasado)\n",
    "* Entrega obrigatória! Entregas incompletas ou que não cumprem os requisitos acima, não serão consideradas e precisarão ser reentregues com atraso.\n",
    "* Estritamente individual"
   ]
  }
 ],
 "metadata": {
  "kernelspec": {
   "display_name": "Python 3",
   "language": "python",
   "name": "python3"
  },
  "language_info": {
   "codemirror_mode": {
    "name": "ipython",
    "version": 3
   },
   "file_extension": ".py",
   "mimetype": "text/x-python",
   "name": "python",
   "nbconvert_exporter": "python",
   "pygments_lexer": "ipython3",
   "version": "3.10.12"
  }
 },
 "nbformat": 4,
 "nbformat_minor": 2
}
